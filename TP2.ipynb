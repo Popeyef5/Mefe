{
 "cells": [
  {
   "cell_type": "code",
   "execution_count": 1,
   "id": "binary-scheduling",
   "metadata": {},
   "outputs": [],
   "source": [
    "import numpy as np\n",
    "from matplotlib import pyplot as plt\n",
    "\n",
    "np.random.seed(1337) # Repetibilidad"
   ]
  },
  {
   "cell_type": "markdown",
   "id": "limiting-wilson",
   "metadata": {},
   "source": [
    "# Ejercicio 1"
   ]
  },
  {
   "cell_type": "markdown",
   "id": "occupational-duplicate",
   "metadata": {},
   "source": [
    "### (a) "
   ]
  },
  {
   "cell_type": "markdown",
   "id": "enormous-invasion",
   "metadata": {},
   "source": [
    "En el ejercicio 5 de la guía se ve que, si $X$ es una variable aleatoria uniformemente distribuida en el intervalo $[-\\frac{\\pi}{2}, \\frac{\\pi}{2}]$ y $g: [-\\frac{\\pi}{2}, \\frac{\\pi}{2}] \\to \\mathbb{R}$ está dada por $g(x) = x_0 + \\gamma * tan(x)$, entonces la variable aleatoria $Y=g(X)$ está distribuida según la distribución de Cauchy con parámetros $x_0$ (mediana) y $\\gamma$ (escala). Es decir que teniendo una variable aleatoria uniformemente distribuida en $[-\\frac{\\pi}{2}, \\frac{\\pi}{2}]$ podemos construir fácilmente números que sigan la distribución de Cauchy con parámetros $x_0$ y $\\gamma$: simplemente tomamos generamos números $x$ distribuidos según $X$ y consideramos $g(x)$.\n",
    "\n",
    "En este caso tenemos a nuestra disposición $U \\mathtt{\\sim} Unif(0, 1)$, pero es un detalle menor que se arregla fácilmente: podemos obtener una variable aleatoria idénticamente distribuida a $X$ a partir de $U$ haciendo $h(U)$, donde $h(u) = -\\frac{\\pi}{2} + u\\pi$. En efecto:\n",
    "\n",
    "$$F_{h(U)}(x) = P(h(U) \\leq x) = P(U \\leq \\frac{x + \\frac{\\pi}{2}}{\\pi}) = F_U(\\frac{x + \\frac{\\pi}{2}}{\\pi})$$ \n",
    "\n",
    "$$F_{h(U)}(x) =  F_U(\\frac{x + \\frac{\\pi}{2}}{\\pi}) = \\begin{cases}\n",
    "       0 &\\quad\\frac{x + \\frac{\\pi}{2}}{\\pi} \\le  0\\\\\n",
    "       \\frac{x + \\frac{\\pi}{2}}{\\pi} &\\quad 0 < \\frac{x + \\frac{\\pi}{2}}{\\pi} \\le 1 \\\\\n",
    "       1 &\\quad \\frac{x + \\frac{\\pi}{2}}{\\pi} > 1\\\\\n",
    "     \\end{cases} = \\begin{cases}\n",
    "       0 &\\quad x \\le  -\\frac{\\pi}{2}\\\\\n",
    "       \\frac{x + \\frac{\\pi}{2}}{\\pi} &\\quad -\\frac{\\pi}{2} < x \\le \\frac{\\pi}{2} \\\\\n",
    "       1 &\\quad x > \\frac{\\pi}{2}\\\\\n",
    "     \\end{cases}$$\n",
    "\n",
    "Luego, para obtener sampleos distribuidos como Cauchy con parámetros $x_0$ y $\\gamma$ a partir de $U$, simplemente debemos hacer $g(h(U))$"
   ]
  },
  {
   "cell_type": "code",
   "execution_count": 2,
   "id": "sudden-stage",
   "metadata": {},
   "outputs": [],
   "source": [
    "# Funciones h y g\n",
    "\n",
    "def h(u):\n",
    "    \"\"\"Mapea Unif(0, 1) en Unif(-pi/2, pi/2)\"\"\"\n",
    "    return - np.pi * 0.5 + np.pi * u\n",
    "\n",
    "def g(x, x0=0, gamma=1): \n",
    "    \"\"\"Mapea Unif(-pi/2, pi/2) en Cauchy(x0, gamma)\"\"\"\n",
    "    return x0 + gamma * np.tan(x)"
   ]
  },
  {
   "cell_type": "code",
   "execution_count": 3,
   "id": "featured-tribune",
   "metadata": {},
   "outputs": [],
   "source": [
    "# Sampleo\n",
    "\n",
    "n_muestras = 10000\n",
    "x0 = 0 # modificar a gusto\n",
    "gamma = 1 # modificar a gusto\n",
    "\n",
    "muestras_uni = np.random.rand(n_muestras)\n",
    "muestras_x = h(muestras_uni)\n",
    "muestras_cauchy = g(muestras_x, x0, gamma)\n"
   ]
  },
  {
   "cell_type": "markdown",
   "id": "compressed-decade",
   "metadata": {},
   "source": [
    "Para graficar la distribución de Cauchy hay que hacer una elección arbitraria: el rango $[a, b]$ en el cual concentrarnos. Si bien sampleando números como acabamos de hacer podemos haber obtenido como resultado números arbitrariamente grandes o chicos, si mostramos todo el rango de valores sampleados no obtendremos algo muy diferente a algo que parezca una delta de Dirac. Por razones que tienen que ver con el inciso (b) del problema, elegimos:\n",
    "$$ c = tan(-0.475\\pi) \\approx -12.7 $$\n",
    "$$ a = x_0 + c * \\gamma$$\n",
    "$$ b = x_0 - c * \\gamma$$"
   ]
  },
  {
   "cell_type": "code",
   "execution_count": 4,
   "id": "reverse-today",
   "metadata": {},
   "outputs": [],
   "source": [
    "# Límites del intervalo a considerar\n",
    "\n",
    "c = np.tan(-0.475 * np.pi)\n",
    "a = x0 + c * gamma\n",
    "b = x0 - c * gamma"
   ]
  },
  {
   "cell_type": "code",
   "execution_count": 5,
   "id": "dated-yellow",
   "metadata": {},
   "outputs": [],
   "source": [
    "# Distribución de Cauchy\n",
    "\n",
    "def cauchy(x, x0=0, gamma=1):\n",
    "    \"\"\"Distribucion de Cauchy(x0, gamma)\"\"\"\n",
    "    ret = x - x0\n",
    "    ret = ret / gamma\n",
    "    ret = ret ** 2\n",
    "    ret = 1 + ret\n",
    "    ret = np.pi * gamma * ret\n",
    "    ret = 1 / ret\n",
    "    return ret"
   ]
  },
  {
   "cell_type": "code",
   "execution_count": 6,
   "id": "elect-subject",
   "metadata": {},
   "outputs": [
    {
     "data": {
      "image/png": "[encoded data removed]",
      "text/plain": [
       "<Figure size 432x288 with 1 Axes>"
      ]
     },
     "metadata": {
      "needs_background": "light"
     },
     "output_type": "display_data"
    }
   ],
   "source": [
    "# Histograma con valor teórico superpuesto\n",
    "\n",
    "cauchy_x = np.linspace(a, b)\n",
    "cauchy_y = cauchy(cauchy_x)\n",
    "\n",
    "plt.hist(muestras_cauchy, bins=cauchy_x, density=True)\n",
    "plt.plot(cauchy_x, cauchy_y, linewidth=3)\n",
    "plt.show()"
   ]
  },
  {
   "cell_type": "markdown",
   "id": "standing-kenya",
   "metadata": {},
   "source": [
    "### (b)"
   ]
  },
  {
   "cell_type": "markdown",
   "id": "restricted-symposium",
   "metadata": {},
   "source": [
    "Hora de explicar el por qué de la elección de ese rango en particular. En esta sección se hará uso de un método Monte Carlo para simular una distribución de Cauchy. El método, sin embargo, precisa que la distribución simulada se encuentre acotada en un cierto intervalo. Como la distribución de Cauchy está definida en toda la recta, hace falta hacer un recorte razonable. Por consistencia, hacemos el mismo a lo largo de todo el trabajo.\n",
    "\n",
    "Al no estar definido el valor medio ni la varianza de la distribución, no resulta posible elegir un rango del estilo (valor medio $\\pm$ n desviaciones estándar). Lo que sí podemos hacer, considerando la simetría de la distribución con respecto a la mediana, es usar la función de distribución acumulada para encontrar una \"cola\" de la distribución que represente una cierta probabilidad que estemos dispuestos a despreciar. Por lo tanto, si elegimos como rango (mediana $\\pm$ la distancia de la mediana a ese valor) estaremos despreciando dos veces la probabilidad de la \"cola\". En concreto: la función de distribución acumulada de Cauchy es:\n",
    "\n",
    "$$F(x) = \\frac{1}{2} + \\frac{1}{\\pi}arctan(\\frac{x - x_0}{\\gamma})$$\n",
    "\n",
    "El corte que consideramos es 5%: simularemos el 95% de la distribución a ambos lados de la mediana. Para ello, la condición resulta:\n",
    "\n",
    "$$ F(x) = 0.025 $$\n",
    "\n",
    "Y por lo tanto \n",
    "\n",
    "$$ x = x_0 + \\gamma * tan((0.025 - 0.5)\\pi) $$\n",
    "\n",
    "La distancia entre la mediana y este valor es:\n",
    "\n",
    "$$ x_0 - x = -\\gamma * tan((0.025 - 0.5)\\pi) $$\n",
    "\n",
    "Y por lo tanto consideramos el intervalo ($x_0 \\pm -\\gamma * tan((0.025 - 0.5)\\pi)$)\n",
    "\n",
    "Con esta información, implementamos el algoritmo de aceptación-rechazo. Pero primero, una aclaración. Como vamos a trabajar con una distribución de probabilidad restringida a un subdominio, la misma no estará normalizada. Una pregunta válida es cuestionar si es necesario que la función que se usa para obtener los datos con el algoritmo sea una distribución de probabilidad para ese intervalo, es decir si es necesario que esté normalizada. La respuesta es que no (razón por la cual no hará falta reescalar la distribución de Cauchy). La razón es simple: consideremos a $f$ la distribución de Cauchy(0, 1) usual y $f_r$ la misma distribución renormalizada para que al integrarse en el intervalo de interés de 1. Naturalmente, $f_r = M * f$, con $M > 1$. En este caso en particular, $M = \\frac{1}{0.95}$, pero mejor dejarlo genérico para que sea más claro. El criterio de aceptación de un número aleatorio usando el algoritmo de aceptación-rechazo es:\n",
    "\n",
    "$$ f_m*z < f(u) $$\n",
    "\n",
    "Con $u$ distribuido uniformemente en el intervalo de interés y $z$ distribuido uniformemente entre 0 y 1. Esto asegura que las proporciones relativas entre los distintos valores respeta los determinados por la densidad de probabilidad. Esto se nota cualitativamente considerando el caso discreto: si $P(x_i) = 2 * P(x_j)$, se espera que la proporción de sucesos $x_i$ sea el doble que la de $x_j$. Esto es exactamente lo que garantiza el algoritmo: la condición $A * z < P(x_i)$ se va a satisfacer estadísticamente el doble de veces que $A * z < P(x_j)$, para cualquier $A$.\n",
    "\n",
    "Como, claramente, $ f_{m_r} = M * f_m $, la condición es equivalente usando las funciones normalizada y sin normalizar:\n",
    "\n",
    "$$ f_m*z < f(u) \\iff M * f_m*z < M * f(u) \\iff f_{m_r}*z < f_r(u)$$\n"
   ]
  },
  {
   "cell_type": "code",
   "execution_count": 7,
   "id": "certified-laundry",
   "metadata": {},
   "outputs": [],
   "source": [
    "# Aceptación-rechazo\n",
    "\n",
    "def aceptacion_rechazo(a, b, f, f_max):\n",
    "    \"\"\"Algoritmo de aceptación-rechazo\"\"\"\n",
    "    y = np.random.rand()\n",
    "    z = np.random.rand()\n",
    "    \n",
    "    u = a + (b-a) * y\n",
    "    if z * f_max < f(u):\n",
    "        return u\n",
    "    "
   ]
  },
  {
   "cell_type": "code",
   "execution_count": 8,
   "id": "julian-massachusetts",
   "metadata": {},
   "outputs": [],
   "source": [
    "# 10000 muestras\n",
    "\n",
    "a = x0 + gamma * np.tan(-0.475 * np.pi)\n",
    "b = x0 - gamma * np.tan(-0.475 * np.pi)\n",
    "f = cauchy\n",
    "f_max = f(x0)\n",
    "\n",
    "muestras_mc = np.empty(1)\n",
    "\n",
    "while muestras_mc.size < n_muestras:\n",
    "    muestra = aceptacion_rechazo(a, b, f, f_max)\n",
    "    if muestra:\n",
    "        muestras_mc = np.append(muestras_mc, muestra)"
   ]
  },
  {
   "cell_type": "code",
   "execution_count": 9,
   "id": "stopped-tragedy",
   "metadata": {},
   "outputs": [
    {
     "data": {
      "image/png": "[encoded data removed]",
      "text/plain": [
       "<Figure size 432x288 with 1 Axes>"
      ]
     },
     "metadata": {
      "needs_background": "light"
     },
     "output_type": "display_data"
    }
   ],
   "source": [
    "# Histograma con valores teóricos superpuestos\n",
    "\n",
    "plt.hist(muestras_mc, bins=cauchy_x, density=True)\n",
    "plt.plot(cauchy_x, cauchy_y, linewidth=2, label=\"Cauchy\")\n",
    "plt.plot(cauchy_x, cauchy_y / 0.95, linewidth=2, color='m', label=\"Cauchy Renormalizado\")\n",
    "plt.legend()\n",
    "plt.show()"
   ]
  },
  {
   "cell_type": "markdown",
   "id": "thick-penguin",
   "metadata": {},
   "source": [
    "Un comentario: la comparación fidedigna con la curva de Cauchy es es con la reescaleada, que es el resultado de normalizar el resultado del algoritmo de Monte Carlo. En efecto, en el rango considerado la suma del histograma da 1 pero la distribución de Cauchy normal 0.95. Por eso, para comparar fidedignamente la forma funcional de la distribución que queremos simular con los datos generados hay que usar la versión renormalizada."
   ]
  },
  {
   "cell_type": "markdown",
   "id": "frozen-chrome",
   "metadata": {},
   "source": [
    "# Ejercicio 2"
   ]
  },
  {
   "cell_type": "markdown",
   "id": "drawn-rochester",
   "metadata": {},
   "source": [
    "### Funciones de variables aleatorias"
   ]
  },
  {
   "cell_type": "markdown",
   "id": "desirable-happening",
   "metadata": {},
   "source": [
    "Si $X$ es una variable aleatoria y $g: \\mathbb{R} \\to \\mathbb{R}$, $Y = g(X)$ es una nueva variable aleatoria. Si $g$ es monótona e invertible, ocurre que\n",
    "\n",
    "$$F_Y(x) = \\begin{cases}\n",
    "       F_X(h(x)) & h = g^{-1}  creciente\\\\\n",
    "       1 - F_X(h(x)) & h = g^{-1} decreciente\\\\\n",
    "     \\end{cases}$$\n",
    "     \n",
    "En nuestro caso,\n",
    "\n",
    "$$F_X = \\begin{cases}\n",
    "       0 &\\quad x \\le  0\\\\\n",
    "       x &\\quad 0 < x \\le 1 \\\\\n",
    "       1 &\\quad x > 1\\\\\n",
    "     \\end{cases}$$\n",
    "     \n",
    "Y queremos\n",
    "\n",
    "$$ F_Y = \\begin{cases}\n",
    "       0 &\\quad y \\le  0\\\\\n",
    "       1 - e^{-\\lambda y} &\\quad y > 0 \\\\\n",
    "     \\end{cases}$$\n",
    "\n",
    "Por lo que tenemos que encontrar una cierta $g: [0, 1] \\to [0, \\infty)$ monótona, creciente o decreciente, y bien comportada. Teniendo en cuenta la relación que va a vincular ambas funciones de densidad acumuladas, la forma funcional de $F_Y$ resulta bastante sugestiva. Veamos que es directo encontrar una $g$ decreciente, considerando $h = g^{-1}$.\n",
    "\n",
    "$$F_Y(y) = 1 - F_X(h(y)) = 1 - e^{-\\lambda y}$$\n",
    "$$F_X(h(y)) = e^{-\\lambda y}$$\n",
    "\n",
    "Como $h: [0, \\infty) \\to [0, 1]$, $0< h(y) < 1$, y por lo tanto $F_X(h(y)) = h(y)$. Eso es compatible con que $e^{-\\lambda y}$ esté entre $0$ y $1$. Luego,\n",
    "\n",
    "$$h(y) = e^{-\\lambda y}$$\n",
    "\n",
    "$$g(x) = -\\frac{\\ln x}{\\lambda}$$"
   ]
  },
  {
   "cell_type": "code",
   "execution_count": 10,
   "id": "royal-judge",
   "metadata": {},
   "outputs": [],
   "source": [
    "# g\n",
    "\n",
    "def g(x, lam=1):\n",
    "    \"\"\"Mapea Unif(0, 1) en Exp(lam)\"\"\"\n",
    "    return -np.log(x)/lam"
   ]
  },
  {
   "cell_type": "code",
   "execution_count": 11,
   "id": "noticed-inflation",
   "metadata": {},
   "outputs": [],
   "source": [
    "# Sampleo\n",
    "\n",
    "n_muestras = 500\n",
    "lam = 0.25\n",
    "\n",
    "muestras_uni = np.random.rand(n_muestras)\n",
    "muestras_exp = g(muestras_uni, lam)"
   ]
  },
  {
   "cell_type": "markdown",
   "id": "korean-stuff",
   "metadata": {},
   "source": [
    "Como antes, tenemos que elegir un rango para graficar los datos generados. Para mantener la consistencia, representaremos el 95% de la curva. Si $Y \\mathtt{\\sim}Exp(\\lambda)$,\n",
    "\n",
    "$$F_Y(y) = 1 - e^{-\\lambda y}$$\n",
    "\n",
    "Por lo que si queremos el 95% de la curva (esta vez buscamos la cola posterior, siendo que la distribución de probabilidad es exponencialmente decreciente):\n",
    "\n",
    "$$F_X(y) = 0.95 = 1 - e^{-\\lambda y}$$\n",
    "$$e^{-\\lambda y} = 0.05$$\n",
    "$$ y = -\\frac{\\ln 0.05}{\\lambda} \\approx 12 $$ \n",
    "\n",
    "Esto es un inconveniente, porque en el inciso se pide representar lo que ocurre para $Y \\ge 15$. Por esa única razón, consideraremos el intervalo $[0, 30]$"
   ]
  },
  {
   "cell_type": "code",
   "execution_count": 12,
   "id": "concerned-moore",
   "metadata": {},
   "outputs": [],
   "source": [
    "# Límites del intervalo a considerar\n",
    "a = 0\n",
    "b = 30"
   ]
  },
  {
   "cell_type": "code",
   "execution_count": 13,
   "id": "ideal-fortune",
   "metadata": {},
   "outputs": [],
   "source": [
    "# Distribución exponencial\n",
    "\n",
    "def exponencial(y, lam=1):\n",
    "    \"\"\"Densidad de probabilidad exponencial con parámetro lam\"\"\"\n",
    "    return lam * np.exp(-lam * y)"
   ]
  },
  {
   "cell_type": "code",
   "execution_count": 14,
   "id": "defensive-beaver",
   "metadata": {},
   "outputs": [
    {
     "data": {
      "image/png": "[encoded data removed]",
      "text/plain": [
       "<Figure size 432x288 with 1 Axes>"
      ]
     },
     "metadata": {
      "needs_background": "light"
     },
     "output_type": "display_data"
    }
   ],
   "source": [
    "# Histograma regular con valor teórico superpuesto\n",
    "\n",
    "exp_x = np.linspace(a, b)\n",
    "exp_y = exponencial(exp_x, lam)\n",
    "\n",
    "plt.hist(muestras_exp, bins=exp_x, density=True)\n",
    "plt.plot(exp_x, exp_y, linewidth=1)\n",
    "plt.show()"
   ]
  },
  {
   "cell_type": "code",
   "execution_count": 15,
   "id": "interesting-convert",
   "metadata": {},
   "outputs": [
    {
     "data": {
      "image/png": "[encoded data removed]",
      "text/plain": [
       "<Figure size 432x288 with 1 Axes>"
      ]
     },
     "metadata": {
      "needs_background": "light"
     },
     "output_type": "display_data"
    }
   ],
   "source": [
    "# Histograma con bins variables y valor teórico superpuesto\n",
    "\n",
    "bins_var = np.copy(exp_x)\n",
    "bins_var[bins_var >= 15] *= 1.3\n",
    "\n",
    "plt.hist(muestras_exp, bins=bins_var, density=True)\n",
    "plt.plot(exp_x, exp_y, linewidth=1)\n",
    "plt.show()"
   ]
  },
  {
   "cell_type": "markdown",
   "id": "placed-oakland",
   "metadata": {},
   "source": [
    "Para que coincida la altura de los bines con la distribución, los mismos deberían tener una altura igual a la integral de la distribución de probabilidad en el rango que los compete. Esto naturalmente irá ocurriendo al tomar una cantidad mayor de muestras. Por ejemplo, con 10000 muestras como en el ejercicio anterior:"
   ]
  },
  {
   "cell_type": "code",
   "execution_count": 16,
   "id": "conditional-howard",
   "metadata": {},
   "outputs": [
    {
     "data": {
      "image/png": "[encoded data removed]",
      "text/plain": [
       "<Figure size 432x288 with 1 Axes>"
      ]
     },
     "metadata": {
      "needs_background": "light"
     },
     "output_type": "display_data"
    }
   ],
   "source": [
    "n_muestras = 10000\n",
    "lam = 0.25\n",
    "\n",
    "muestras_uni = np.random.rand(n_muestras)\n",
    "muestras_exp = g(muestras_uni, lam)\n",
    "\n",
    "plt.hist(muestras_exp, bins=exp_x, density=True)\n",
    "plt.plot(exp_x, exp_y, linewidth=1)\n",
    "plt.show()"
   ]
  },
  {
   "cell_type": "code",
   "execution_count": null,
   "id": "identical-leone",
   "metadata": {},
   "outputs": [],
   "source": []
  }
 ],
 "metadata": {
  "kernelspec": {
   "display_name": "Python 3",
   "language": "python",
   "name": "python3"
  },
  "language_info": {
   "codemirror_mode": {
    "name": "ipython",
    "version": 3
   },
   "file_extension": ".py",
   "mimetype": "text/x-python",
   "name": "python",
   "nbconvert_exporter": "python",
   "pygments_lexer": "ipython3",
   "version": "3.8.5"
  }
 },
 "nbformat": 4,
 "nbformat_minor": 5
}
